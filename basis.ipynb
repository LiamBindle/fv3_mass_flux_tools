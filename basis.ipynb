{
 "cells": [
  {
   "cell_type": "code",
   "execution_count": 9,
   "metadata": {},
   "outputs": [],
   "source": [
    "import numpy as np\n",
    "import xarray as xr\n",
    "import mf2w\n",
    "from sklearn.preprocessing import normalize\n",
    "import matplotlib.pyplot as plt"
   ]
  },
  {
   "cell_type": "code",
   "execution_count": 2,
   "metadata": {},
   "outputs": [
    {
     "name": "stdout",
     "output_type": "stream",
     "text": [
      "<xarray.Dataset>\n",
      "Dimensions:  (yc: 1441, xc: 1441)\n",
      "Dimensions without coordinates: yc, xc\n",
      "Data variables:\n",
      "    tile     |S255 ...\n",
      "    lons     (yc, xc) float64 ...\n",
      "    lats     (yc, xc) float64 ...\n"
     ]
    }
   ],
   "source": [
    "grid = xr.open_dataset(\"data/c720.tile1.nc\")\n",
    "print(grid)"
   ]
  },
  {
   "cell_type": "code",
   "execution_count": 3,
   "metadata": {},
   "outputs": [
    {
     "name": "stdout",
     "output_type": "stream",
     "text": [
      "(720, 720, 3, 2)\n",
      "(720, 720, 2, 3)\n"
     ]
    }
   ],
   "source": [
    "lats = grid.lats.values\n",
    "lons = grid.lons.values\n",
    "center_lats = lats[1::2, 1::2]\n",
    "center_lons = lons[1::2, 1::2]\n",
    "u_edge_lats = lats[1::2, 2::2]\n",
    "u_edge_lons = lons[1::2, 2::2]\n",
    "v_edge_lats = lats[2::2, 1::2]\n",
    "v_edge_lons = lons[2::2, 1::2]\n",
    "grid2cart = mf2w.get_uv2cart_cob_matrix(center_lats, center_lons, u_edge_lats, u_edge_lons, v_edge_lats, v_edge_lons)\n",
    "cart2latlon = mf2w.get_latlon2cart_cob_matrix(center_lats, center_lons)\n",
    "\n",
    "print(grid2cart.shape)\n",
    "print(cart2latlon.shape)"
   ]
  },
  {
   "cell_type": "code",
   "execution_count": 4,
   "metadata": {},
   "outputs": [],
   "source": [
    "cob = np.einsum('ijlm,ijmn->ijln', cart2latlon, grid2cart)"
   ]
  },
  {
   "cell_type": "code",
   "execution_count": 12,
   "metadata": {},
   "outputs": [
    {
     "data": {
      "text/plain": [
       "<matplotlib.image.AxesImage at 0x19332531280>"
      ]
     },
     "execution_count": 12,
     "metadata": {},
     "output_type": "execute_result"
    },
    {
     "data": {
      "image/png": "[encoded data removed]",
      "text/plain": [
       "<Figure size 432x288 with 1 Axes>"
      ]
     },
     "metadata": {
      "needs_background": "light"
     },
     "output_type": "display_data"
    }
   ],
   "source": [
    "plt.imshow(cob[:,:,1,0])"
   ]
  },
  {
   "cell_type": "code",
   "execution_count": 17,
   "metadata": {},
   "outputs": [
    {
     "name": "stdout",
     "output_type": "stream",
     "text": [
      "[ 0.00056673 -0.00080781  0.00139678]\n",
      "-1.0675222641629012e-12\n",
      "[ 0.33138264 -0.47235108  0.81674354]\n"
     ]
    }
   ],
   "source": [
    "p1 = cell[0, 1, :]\n",
    "p2 = cell[1, 1, :]\n",
    "p3 = cell[2, 1, :]\n",
    "# p1 = cell[1, 0, :]\n",
    "# p2 = cell[1, 1, :]\n",
    "# p3 = cell[1, 2, :]\n",
    "\n",
    "xyz1 = mf2w.sph2cart(p1, degrees=True)\n",
    "xyz2 = mf2w.sph2cart(p2, degrees=True)\n",
    "xyz3 = mf2w.sph2cart(p3, degrees=True)\n",
    "\n",
    "uvect = xyz3 - xyz1\n",
    "ap = np.dot(uvect,xyz2) \n",
    "print(uvect)\n",
    "print(ap)\n",
    "uvect = uvect - ap*xyz2\n",
    "ap = np.dot(uvect,uvect)\n",
    "uvect=uvect/np.sqrt(ap)\n",
    "\n",
    "print(uvect)"
   ]
  },
  {
   "cell_type": "code",
   "execution_count": 86,
   "metadata": {},
   "outputs": [],
   "source": [
    "def get_cart_unit_vectors(grid):\n",
    "    pl = np.concatenate((grid.lats.values[..., np.newaxis], grid.lons.values[..., np.newaxis]), -1)\n",
    "    xyz = mf2w.sph2cart(pl, degrees=True)\n",
    "\n",
    "    center = xyz[1::2, 1::2, :]\n",
    "    edge_u = xyz[1::2, 2::2, :]\n",
    "    edge_v = xyz[2::2, 1::2, :]\n",
    "    u = edge_u - center\n",
    "    mag = np.sqrt(np.expand_dims(np.einsum('ijk,ijk->ij', u, u), -1))\n",
    "    u /= mag\n",
    "    v = edge_v - center\n",
    "    mag = np.sqrt(np.expand_dims(np.einsum('ijk,ijk->ij', v, v), -1))\n",
    "    v /= mag\n",
    "    return np.moveaxis([u, v], 0, -2)\n",
    "\n",
    "def get_north_east_unit_vectors(grid):\n",
    "    x = np.deg2rad(grid.lons.values[1::2, 1::2])\n",
    "    y = np.deg2rad(grid.lats.values[1::2, 1::2])\n",
    "    M = np.zeros((*x.shape, 2, 3))\n",
    "    M[:,:, 0, 0] = -np.sin(x)\n",
    "    M[:,:, 0, 1] = np.cos(x)\n",
    "    M[:,:, 0, 2] = 0.0\n",
    "    M[:,:, 1, 0] = -np.sin(y)*np.cos(x)\n",
    "    M[:,:, 1, 1] = -np.sin(y)*np.sin(x)\n",
    "    M[:,:, 1, 2] = np.cos(y)\n",
    "    return M"
   ]
  },
  {
   "cell_type": "code",
   "execution_count": 87,
   "metadata": {},
   "outputs": [],
   "source": [
    "uv = get_cart_unit_vectors(grid)\n",
    "ne = get_north_east_unit_vectors(grid)"
   ]
  },
  {
   "cell_type": "code",
   "execution_count": 88,
   "metadata": {},
   "outputs": [
    {
     "data": {
      "text/plain": [
       "array([[[[ 0.8186315 ,  0.57431914,  0.        ],\n",
       "         [ 0.33138264, -0.47235108,  0.81674354]],\n",
       "\n",
       "        [[ 0.81758743,  0.57580447,  0.        ],\n",
       "         [ 0.3326406 , -0.47231792,  0.81625119]],\n",
       "\n",
       "        [[ 0.8165394 ,  0.5772897 ,  0.        ],\n",
       "         [ 0.33389959, -0.47227964,  0.81575915]],\n",
       "\n",
       "        ...,\n",
       "\n",
       "        [[-0.56985135,  0.8217478 ,  0.        ],\n",
       "         [ 0.47529214,  0.32959731,  0.81575915]],\n",
       "\n",
       "        [[-0.57134415,  0.82071059,  0.        ],\n",
       "         [ 0.47412216,  0.33006388,  0.81625119]],\n",
       "\n",
       "        [[-0.57283326,  0.81967192,  0.        ],\n",
       "         [ 0.4729514 ,  0.33052529,  0.81674354]]],\n",
       "\n",
       "\n",
       "       [[[ 0.8186315 ,  0.57431914,  0.        ],\n",
       "         [ 0.33057996, -0.47120694,  0.81772912]],\n",
       "\n",
       "        [[ 0.81758743,  0.57580447,  0.        ],\n",
       "         [ 0.33183584, -0.47117524,  0.81723857]],\n",
       "\n",
       "        [[ 0.8165394 ,  0.5772897 ,  0.        ],\n",
       "         [ 0.33309275, -0.47113842,  0.81674831]],\n",
       "\n",
       "        ...,\n",
       "\n",
       "        [[-0.56985135,  0.8217478 ,  0.        ],\n",
       "         [ 0.47414363,  0.32880087,  0.81674831]],\n",
       "\n",
       "        [[-0.57134415,  0.82071059,  0.        ],\n",
       "         [ 0.47297511,  0.32926535,  0.81723857]],\n",
       "\n",
       "        [[-0.57283326,  0.81967192,  0.        ],\n",
       "         [ 0.47180581,  0.32972468,  0.81772912]]],\n",
       "\n",
       "\n",
       "       [[[ 0.8186315 ,  0.57431914,  0.        ],\n",
       "         [ 0.3297763 , -0.47006141,  0.81871232]],\n",
       "\n",
       "        [[ 0.81758743,  0.57580447,  0.        ],\n",
       "         [ 0.33103009, -0.47003116,  0.81822355]],\n",
       "\n",
       "        [[ 0.8165394 ,  0.5772897 ,  0.        ],\n",
       "         [ 0.33228493, -0.4699958 ,  0.81773509]],\n",
       "\n",
       "        ...,\n",
       "\n",
       "        [[-0.56985135,  0.8217478 ,  0.        ],\n",
       "         [ 0.47299373,  0.32800345,  0.81773509]],\n",
       "\n",
       "        [[-0.57134415,  0.82071059,  0.        ],\n",
       "         [ 0.47182666,  0.32846585,  0.81822355]],\n",
       "\n",
       "        [[-0.57283326,  0.81967192,  0.        ],\n",
       "         [ 0.47065883,  0.3289231 ,  0.81871232]]],\n",
       "\n",
       "\n",
       "       ...,\n",
       "\n",
       "\n",
       "       [[[ 0.8186315 ,  0.57431914,  0.        ],\n",
       "         [-0.3297763 ,  0.47006141,  0.81871232]],\n",
       "\n",
       "        [[ 0.81758743,  0.57580447,  0.        ],\n",
       "         [-0.33103009,  0.47003116,  0.81822355]],\n",
       "\n",
       "        [[ 0.8165394 ,  0.5772897 ,  0.        ],\n",
       "         [-0.33228493,  0.4699958 ,  0.81773509]],\n",
       "\n",
       "        ...,\n",
       "\n",
       "        [[-0.56985135,  0.8217478 ,  0.        ],\n",
       "         [-0.47299373, -0.32800345,  0.81773509]],\n",
       "\n",
       "        [[-0.57134415,  0.82071059,  0.        ],\n",
       "         [-0.47182666, -0.32846585,  0.81822355]],\n",
       "\n",
       "        [[-0.57283326,  0.81967192,  0.        ],\n",
       "         [-0.47065883, -0.3289231 ,  0.81871232]]],\n",
       "\n",
       "\n",
       "       [[[ 0.8186315 ,  0.57431914,  0.        ],\n",
       "         [-0.33057996,  0.47120694,  0.81772912]],\n",
       "\n",
       "        [[ 0.81758743,  0.57580447,  0.        ],\n",
       "         [-0.33183584,  0.47117524,  0.81723857]],\n",
       "\n",
       "        [[ 0.8165394 ,  0.5772897 ,  0.        ],\n",
       "         [-0.33309275,  0.47113842,  0.81674831]],\n",
       "\n",
       "        ...,\n",
       "\n",
       "        [[-0.56985135,  0.8217478 ,  0.        ],\n",
       "         [-0.47414363, -0.32880087,  0.81674831]],\n",
       "\n",
       "        [[-0.57134415,  0.82071059,  0.        ],\n",
       "         [-0.47297511, -0.32926535,  0.81723857]],\n",
       "\n",
       "        [[-0.57283326,  0.81967192,  0.        ],\n",
       "         [-0.47180581, -0.32972468,  0.81772912]]],\n",
       "\n",
       "\n",
       "       [[[ 0.8186315 ,  0.57431914,  0.        ],\n",
       "         [-0.33138264,  0.47235108,  0.81674354]],\n",
       "\n",
       "        [[ 0.81758743,  0.57580447,  0.        ],\n",
       "         [-0.3326406 ,  0.47231792,  0.81625119]],\n",
       "\n",
       "        [[ 0.8165394 ,  0.5772897 ,  0.        ],\n",
       "         [-0.33389959,  0.47227964,  0.81575915]],\n",
       "\n",
       "        ...,\n",
       "\n",
       "        [[-0.56985135,  0.8217478 ,  0.        ],\n",
       "         [-0.47529214, -0.32959731,  0.81575915]],\n",
       "\n",
       "        [[-0.57134415,  0.82071059,  0.        ],\n",
       "         [-0.47412216, -0.33006388,  0.81625119]],\n",
       "\n",
       "        [[-0.57283326,  0.81967192,  0.        ],\n",
       "         [-0.4729514 , -0.33052529,  0.81674354]]]])"
      ]
     },
     "execution_count": 88,
     "metadata": {},
     "output_type": "execute_result"
    }
   ],
   "source": [
    "ne"
   ]
  },
  {
   "cell_type": "code",
   "execution_count": null,
   "metadata": {},
   "outputs": [],
   "source": []
  }
 ],
 "metadata": {
  "interpreter": {
   "hash": "62483fecdf68dbfd332f107ca9205a1b88e6aa39b38bd81fcbd7e610df1caaf7"
  },
  "kernelspec": {
   "display_name": "Python 3.9.12 ('py39')",
   "language": "python",
   "name": "python3"
  },
  "language_info": {
   "codemirror_mode": {
    "name": "ipython",
    "version": 3
   },
   "file_extension": ".py",
   "mimetype": "text/x-python",
   "name": "python",
   "nbconvert_exporter": "python",
   "pygments_lexer": "ipython3",
   "version": "3.9.12"
  },
  "orig_nbformat": 4
 },
 "nbformat": 4,
 "nbformat_minor": 2
}
